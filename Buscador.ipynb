{
  "nbformat": 4,
  "nbformat_minor": 0,
  "metadata": {
    "colab": {
      "provenance": [],
      "authorship_tag": "ABX9TyPUQTeS3Ro1GhorU1XkrltS",
      "include_colab_link": true
    },
    "kernelspec": {
      "name": "python3",
      "display_name": "Python 3"
    },
    "language_info": {
      "name": "python"
    }
  },
  "cells": [
    {
      "cell_type": "markdown",
      "metadata": {
        "id": "view-in-github",
        "colab_type": "text"
      },
      "source": [
        "<a href=\"https://colab.research.google.com/github/AdminMod18/Talller-3y4/blob/main/Buscador.ipynb\" target=\"_parent\"><img src=\"https://colab.research.google.com/assets/colab-badge.svg\" alt=\"Open In Colab\"/></a>"
      ]
    },
    {
      "cell_type": "code",
      "execution_count": 1,
      "metadata": {
        "colab": {
          "base_uri": "https://localhost:8080/"
        },
        "id": "bT6WFAVvPepX",
        "outputId": "900416d6-e73e-46dc-b1e0-96c2e6b25f63"
      },
      "outputs": [
        {
          "output_type": "stream",
          "name": "stdout",
          "text": [
            "Documentos que contienen 'Python':\n",
            "La programación en Python es clave para el trabajo con datos\n",
            "Los programadores en Java tienen un alto interés en pasar a Python\n"
          ]
        }
      ],
      "source": [
        "def buscar(diccionario, palabra_a_buscar):\n",
        "    \"\"\"\n",
        "    Busca una palabra en el diccionario y devuelve los documentos que la contienen.\n",
        "\n",
        "    Args:\n",
        "        diccionario: El diccionario con las palabras y sus ocurrencias.\n",
        "        palabra_a_buscar: La palabra que se desea buscar.\n",
        "\n",
        "    Returns:\n",
        "        Una lista de índices de documentos que contienen la palabra.\n",
        "    \"\"\"\n",
        "\n",
        "    # Verificamos si la palabra está en el diccionario.\n",
        "    if palabra_a_buscar in diccionario:\n",
        "        # Si la palabra está en el diccionario, devolvemos los índices de documentos que la contienen.\n",
        "        return diccionario[palabra_a_buscar]\n",
        "    else:\n",
        "        # Si la palabra no está en el diccionario, devolvemos una lista vacía.\n",
        "        return []\n",
        "\n",
        "if __name__ == \"__main__\":\n",
        "    # Creamos un diccionario con las palabras y los documentos que las contienen.\n",
        "    my_documents = [\n",
        "            \"La programación en Python es clave para el trabajo con datos\",\n",
        "    \"Los programadores en Java tienen un alto interés en pasar a Python\",\n",
        "    \"La optimización de algoritmos es fundamental en el desarrollo de software\",\n",
        "    \"Las bases de datos relacionales son esenciales para muchas aplicaciones\",\n",
        "    \"El paradigma de programación funcional gana popularidad\",\n",
        "    \"La seguridad informática es un tema crucial en el desarrollo de aplicaciones web\",\n",
        "    \"Los lenguajes de programación modernos ofrecen abstracciones poderosas\",\n",
        "    \"La inteligencia artificial está transformando diversas industrias\",\n",
        "    \"El aprendizaje automático es una rama clave de la ciencia de datos\",\n",
        "    \"Las interfaces de usuario intuitivas mejoran la experiencia del usuario\",\n",
        "    \"La calidad del código es esencial para mantener un proyecto exitoso\",\n",
        "    \"La agilidad en el desarrollo de software permite adaptarse a cambios rápidamente\",\n",
        "    \"Las pruebas automatizadas son cruciales para garantizar la estabilidad del software\",\n",
        "    \"La modularización del código facilita la colaboración en equipos de programadores\",\n",
        "    \"El control de versiones es necesario para rastrear cambios en el código\",\n",
        "    \"La documentación clara es fundamental para que otros entiendan el código\",\n",
        "    \"La programación orientada a objetos promueve la reutilización de código\",\n",
        "    \"La resolución de problemas es una habilidad esencial en la programación\",\n",
        "    \"La optimización prematura puede llevar a código complicado y difícil de mantener\",\n",
        "    \"El diseño de interfaces de usuario atractivas mejora la usabilidad de las aplicaciones\",\n",
        "    \"El código limpio es esencial para facilitar el mantenimiento\",\n",
        "    \"Los patrones de diseño son soluciones probadas para problemas comunes\",\n",
        "    \"Las pruebas unitarias garantizan el correcto funcionamiento de las partes del código\",\n",
        "    \"El desarrollo ágil prioriza la entrega continua de valor al cliente\",\n",
        "    \"Los comentarios en el código deben ser claros y útiles\",\n",
        "    \"La recursividad es una técnica poderosa en la programación\",\n",
        "    \"Las bibliotecas de código abierto aceleran el desarrollo de software\",\n",
        "    \"La virtualización permite una mejor utilización de los recursos de hardware\",\n",
        "    \"La seguridad en la programación web es fundamental para prevenir ataques\",\n",
        "    \"Los principios SOLID son fundamentales para el diseño de software robusto\",\n",
        "    \"La arquitectura de microservicios permite escalar componentes individualmente\",\n",
        "    \"La refactorización mejora la calidad del código sin cambiar su comportamiento\",\n",
        "    \"Los sistemas distribuidos presentan desafíos en la sincronización de datos\",\n",
        "    \"El enfoque DevOps une el desarrollo y las operaciones para una entrega eficiente\",\n",
        "    \"Las bases de datos NoSQL son útiles para manejar datos no estructurados\",\n",
        "    \"La agilidad en el desarrollo permite adaptarse a cambios del mercado\",\n",
        "    \"Las buenas prácticas en el control de versiones facilitan la colaboración\",\n",
        "    \"La programación concurrente mejora la eficiencia en sistemas multiusuario\",\n",
        "    \"Los marcos de trabajo MVC separan la lógica de la interfaz de usuario\",\n",
        "    \"La interacción entre aplicaciones se logra a través de APIs\",\n",
        "    \"El machine learning permite a las máquinas aprender de los datos\",\n",
        "    \"La analítica de datos ayuda a tomar decisiones basadas en información\",\n",
        "    \"El diseño responsivo garantiza una experiencia consistente en diferentes dispositivos\",\n",
        "    \"Las pruebas de carga verifican el rendimiento de las aplicaciones\",\n",
        "    \"El enfoque centrado en el usuario mejora la usabilidad de las aplicaciones\",\n",
        "    \"La programación reactiva es útil para manejar flujos de datos asincrónicos\",\n",
        "    \"Los contenedores facilitan la implementación y el despliegue de aplicaciones\",\n",
        "    \"La gestión de dependencias es esencial para administrar las bibliotecas externas\",\n",
        "    \"La integración continua automatiza la verificación de cambios en el código\",\n",
        "    \"El aprendizaje profundo es una rama avanzada del machine learning\",\n",
        "    \"La depuración es una habilidad crucial para encontrar y corregir errores\",\n",
        "    \"La criptografía protege la información sensible en aplicaciones\",\n",
        "    \"El desarrollo full-stack abarca tanto el frontend como el backend\",\n",
        "    \"Las pruebas de seguridad ayudan a identificar vulnerabilidades en el software\",\n",
        "    \"La agilidad cultural es clave para adoptar prácticas ágiles de manera efectiva\",\n",
        "    \"La infraestructura como código permite automatizar la gestión de servidores\",\n",
        "    \"Los patrones arquitectónicos guían la estructura general de una aplicación\",\n",
        "    \"El análisis predictivo utiliza datos históricos para predecir tendencias\",\n",
        "    \"Las interfaces API REST son ampliamente utilizadas para comunicarse con aplicaciones\",\n",
        "    \"El rendimiento de las aplicaciones es esencial para brindar una buena experiencia\",\n",
        "    \"La virtualización de servidores reduce costos y facilita la administración\",\n",
        "    \"La ingeniería de software implica la aplicación de métodos sistemáticos\",\n",
        "    \"El código autodocumentado es claro y fácil de entender para otros programadores\",\n",
        "    \"La integración de sistemas conecta diferentes aplicaciones para trabajar juntas\",\n",
        "    \"Las metodologías ágiles promueven la adaptación y la colaboración continua\",\n",
        "    \"El monitoreo de aplicaciones permite identificar y resolver problemas en tiempo real\",\n",
        "    \"El análisis de datos masivos (big data) abre oportunidades para obtener insights\",\n",
        "    \"El diseño de interfaces de usuario es crucial para la experiencia del usuario\",\n",
        "    \"La seguridad en el desarrollo es un proceso constante de mitigación de riesgos\"\n",
        "    ]\n",
        "\n",
        "    # Inicializamos el diccionario donde almacenaremos las palabras y los documentos que las contienen.\n",
        "    diccionario = {}\n",
        "\n",
        "    # Llenamos el diccionario con las palabras y los documentos correspondientes.\n",
        "    for i, documento in enumerate(my_documents):\n",
        "        palabras = documento.split()\n",
        "        for palabra in palabras:\n",
        "            if palabra not in diccionario:\n",
        "                diccionario[palabra] = [i]\n",
        "            else:\n",
        "                diccionario[palabra].append(i)\n",
        "\n",
        "    # Buscamos la palabra \"Python\" e imprimimos los documentos que la contienen.\n",
        "    palabra_a_buscar = \"Python\"\n",
        "    documentos = buscar(diccionario, palabra_a_buscar)\n",
        "    if documentos:\n",
        "        print(f\"Documentos que contienen '{palabra_a_buscar}':\")\n",
        "        for documento_index in documentos:\n",
        "            print(my_documents[documento_index])\n",
        "    else:\n",
        "        print(f\"'{palabra_a_buscar}' no se encontró en ningún documento.\")\n"
      ]
    }
  ]
}